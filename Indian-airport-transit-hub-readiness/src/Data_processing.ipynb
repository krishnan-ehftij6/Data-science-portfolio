{
 "cells": [
  {
   "cell_type": "code",
   "execution_count": null,
   "id": "7008d587-cdcd-4783-9e19-7a5b7ff4045f",
   "metadata": {},
   "outputs": [],
   "source": []
  },
  {
   "cell_type": "code",
   "execution_count": 336,
   "id": "cb202e69-2962-4bb5-ab47-1f2897a5b4c9",
   "metadata": {},
   "outputs": [],
   "source": [
    "import numpy as np\n",
    "import pandas as pd\n",
    "import matplotlib.pyplot as plt\n",
    "import seaborn as sns\n",
    "\n",
    "df = pd.read_csv(\"airport_skytrax_reviews.csv\")"
   ]
  },
  {
   "cell_type": "code",
   "execution_count": 338,
   "id": "8002756b-6ca8-49d1-ad74-28a3f1edad0c",
   "metadata": {},
   "outputs": [
    {
     "data": {
      "text/html": [
       "<div>\n",
       "<style scoped>\n",
       "    .dataframe tbody tr th:only-of-type {\n",
       "        vertical-align: middle;\n",
       "    }\n",
       "\n",
       "    .dataframe tbody tr th {\n",
       "        vertical-align: top;\n",
       "    }\n",
       "\n",
       "    .dataframe thead th {\n",
       "        text-align: right;\n",
       "    }\n",
       "</style>\n",
       "<table border=\"1\" class=\"dataframe\">\n",
       "  <thead>\n",
       "    <tr style=\"text-align: right;\">\n",
       "      <th></th>\n",
       "      <th>Airport</th>\n",
       "      <th>Review</th>\n",
       "      <th>Overall Rating</th>\n",
       "      <th>Recommended</th>\n",
       "      <th>Date of Visit</th>\n",
       "      <th>Type of Traveller</th>\n",
       "      <th>Experience</th>\n",
       "      <th>Terminal Cleanliness</th>\n",
       "      <th>Terminal Seating</th>\n",
       "      <th>Terminal Signs</th>\n",
       "      <th>Food &amp; Beverages</th>\n",
       "      <th>Airport Shopping</th>\n",
       "      <th>Wifi Connectivity</th>\n",
       "      <th>Airport Staff</th>\n",
       "    </tr>\n",
       "  </thead>\n",
       "  <tbody>\n",
       "    <tr>\n",
       "      <th>0</th>\n",
       "      <td>Istanbul</td>\n",
       "      <td>✅ Trip Verified |   I'm flying 50-60 times a y...</td>\n",
       "      <td>1.0</td>\n",
       "      <td>no</td>\n",
       "      <td>February 2025</td>\n",
       "      <td>Business</td>\n",
       "      <td>Departure Only</td>\n",
       "      <td>4.0</td>\n",
       "      <td>2.0</td>\n",
       "      <td>3.0</td>\n",
       "      <td>1.0</td>\n",
       "      <td>NaN</td>\n",
       "      <td>NaN</td>\n",
       "      <td>2.0</td>\n",
       "    </tr>\n",
       "    <tr>\n",
       "      <th>1</th>\n",
       "      <td>Istanbul</td>\n",
       "      <td>Not Verified |  Ridiculous prices on everythin...</td>\n",
       "      <td>2.0</td>\n",
       "      <td>no</td>\n",
       "      <td>February 2025</td>\n",
       "      <td>Family Leisure</td>\n",
       "      <td>Arrival and Departure</td>\n",
       "      <td>2.0</td>\n",
       "      <td>1.0</td>\n",
       "      <td>3.0</td>\n",
       "      <td>1.0</td>\n",
       "      <td>1.0</td>\n",
       "      <td>1.0</td>\n",
       "      <td>1.0</td>\n",
       "    </tr>\n",
       "    <tr>\n",
       "      <th>2</th>\n",
       "      <td>Istanbul</td>\n",
       "      <td>Not Verified |  The biggest trap for the touri...</td>\n",
       "      <td>1.0</td>\n",
       "      <td>no</td>\n",
       "      <td>February 2025</td>\n",
       "      <td>Couple Leisure</td>\n",
       "      <td>Departure Only</td>\n",
       "      <td>1.0</td>\n",
       "      <td>1.0</td>\n",
       "      <td>1.0</td>\n",
       "      <td>1.0</td>\n",
       "      <td>1.0</td>\n",
       "      <td>1.0</td>\n",
       "      <td>1.0</td>\n",
       "    </tr>\n",
       "    <tr>\n",
       "      <th>3</th>\n",
       "      <td>Istanbul</td>\n",
       "      <td>✅ Trip Verified |   Fast food price is just ri...</td>\n",
       "      <td>2.0</td>\n",
       "      <td>no</td>\n",
       "      <td>January 2025</td>\n",
       "      <td>Solo Leisure</td>\n",
       "      <td>Transit</td>\n",
       "      <td>5.0</td>\n",
       "      <td>5.0</td>\n",
       "      <td>5.0</td>\n",
       "      <td>1.0</td>\n",
       "      <td>1.0</td>\n",
       "      <td>5.0</td>\n",
       "      <td>3.0</td>\n",
       "    </tr>\n",
       "    <tr>\n",
       "      <th>4</th>\n",
       "      <td>Istanbul</td>\n",
       "      <td>✅ Trip Verified |   This airport is luxury and...</td>\n",
       "      <td>2.0</td>\n",
       "      <td>no</td>\n",
       "      <td>January 2025</td>\n",
       "      <td>Business</td>\n",
       "      <td>Arrival and Departure</td>\n",
       "      <td>1.0</td>\n",
       "      <td>2.0</td>\n",
       "      <td>3.0</td>\n",
       "      <td>3.0</td>\n",
       "      <td>4.0</td>\n",
       "      <td>2.0</td>\n",
       "      <td>1.0</td>\n",
       "    </tr>\n",
       "  </tbody>\n",
       "</table>\n",
       "</div>"
      ],
      "text/plain": [
       "    Airport                                             Review  \\\n",
       "0  Istanbul  ✅ Trip Verified |   I'm flying 50-60 times a y...   \n",
       "1  Istanbul  Not Verified |  Ridiculous prices on everythin...   \n",
       "2  Istanbul  Not Verified |  The biggest trap for the touri...   \n",
       "3  Istanbul  ✅ Trip Verified |   Fast food price is just ri...   \n",
       "4  Istanbul  ✅ Trip Verified |   This airport is luxury and...   \n",
       "\n",
       "   Overall Rating Recommended  Date of Visit Type of Traveller  \\\n",
       "0             1.0          no  February 2025          Business   \n",
       "1             2.0          no  February 2025    Family Leisure   \n",
       "2             1.0          no  February 2025    Couple Leisure   \n",
       "3             2.0          no   January 2025      Solo Leisure   \n",
       "4             2.0          no   January 2025          Business   \n",
       "\n",
       "              Experience  Terminal Cleanliness  Terminal Seating  \\\n",
       "0         Departure Only                   4.0               2.0   \n",
       "1  Arrival and Departure                   2.0               1.0   \n",
       "2         Departure Only                   1.0               1.0   \n",
       "3                Transit                   5.0               5.0   \n",
       "4  Arrival and Departure                   1.0               2.0   \n",
       "\n",
       "   Terminal Signs  Food & Beverages  Airport Shopping  Wifi Connectivity  \\\n",
       "0             3.0               1.0               NaN                NaN   \n",
       "1             3.0               1.0               1.0                1.0   \n",
       "2             1.0               1.0               1.0                1.0   \n",
       "3             5.0               1.0               1.0                5.0   \n",
       "4             3.0               3.0               4.0                2.0   \n",
       "\n",
       "   Airport Staff  \n",
       "0            2.0  \n",
       "1            1.0  \n",
       "2            1.0  \n",
       "3            3.0  \n",
       "4            1.0  "
      ]
     },
     "execution_count": 338,
     "metadata": {},
     "output_type": "execute_result"
    }
   ],
   "source": [
    "df.head()"
   ]
  },
  {
   "cell_type": "code",
   "execution_count": 342,
   "id": "3b7e6634-4b47-4389-9f13-0b742e33acbb",
   "metadata": {},
   "outputs": [
    {
     "name": "stdout",
     "output_type": "stream",
     "text": [
      "<class 'pandas.core.frame.DataFrame'>\n",
      "RangeIndex: 2670 entries, 0 to 2669\n",
      "Data columns (total 14 columns):\n",
      " #   Column                Non-Null Count  Dtype  \n",
      "---  ------                --------------  -----  \n",
      " 0   Airport               2670 non-null   object \n",
      " 1   Review                2670 non-null   object \n",
      " 2   Overall Rating        2590 non-null   float64\n",
      " 3   Recommended           2670 non-null   object \n",
      " 4   Date of Visit         1980 non-null   object \n",
      " 5   Type of Traveller     1983 non-null   object \n",
      " 6   Experience            1983 non-null   object \n",
      " 7   Terminal Cleanliness  2609 non-null   float64\n",
      " 8   Terminal Seating      1795 non-null   float64\n",
      " 9   Terminal Signs        1941 non-null   float64\n",
      " 10  Food & Beverages      1961 non-null   float64\n",
      " 11  Airport Shopping      2234 non-null   float64\n",
      " 12  Wifi Connectivity     1616 non-null   float64\n",
      " 13  Airport Staff         1860 non-null   float64\n",
      "dtypes: float64(8), object(6)\n",
      "memory usage: 292.2+ KB\n"
     ]
    }
   ],
   "source": [
    "df.info()"
   ]
  },
  {
   "cell_type": "code",
   "execution_count": 344,
   "id": "aa1667ba-0cbd-4be4-846f-525e1d7e9d44",
   "metadata": {},
   "outputs": [
    {
     "data": {
      "text/plain": [
       "array(['Istanbul', 'Dubai', 'Doha', 'Abu Dhabi', 'Bangkok', 'Singapore',\n",
       "       'Hong Kong', 'Delhi', 'Mumbai', 'Bangalore', 'Hyderabad'],\n",
       "      dtype=object)"
      ]
     },
     "execution_count": 344,
     "metadata": {},
     "output_type": "execute_result"
    }
   ],
   "source": [
    "df[\"Airport\"].unique()"
   ]
  },
  {
   "cell_type": "code",
   "execution_count": 251,
   "id": "6df94d71-b25b-4f6c-bc39-02825228549e",
   "metadata": {},
   "outputs": [
    {
     "data": {
      "text/plain": [
       "Airport                    0\n",
       "Review                     0\n",
       "Overall Rating            80\n",
       "Recommended                0\n",
       "Date of Visit            690\n",
       "Type of Traveller        687\n",
       "Experience               687\n",
       "Terminal Cleanliness      61\n",
       "Terminal Seating         875\n",
       "Terminal Signs           729\n",
       "Food & Beverages         709\n",
       "Airport Shopping         436\n",
       "Wifi Connectivity       1054\n",
       "Airport Staff            810\n",
       "dtype: int64"
      ]
     },
     "execution_count": 251,
     "metadata": {},
     "output_type": "execute_result"
    }
   ],
   "source": [
    "df.isna().sum()"
   ]
  },
  {
   "cell_type": "markdown",
   "id": "cf2e1925-1b9d-4998-b0a6-507af493b5cc",
   "metadata": {},
   "source": [
    "There are several missing values, to understand what method can be done to handle these missing values, box plots are being done"
   ]
  },
  {
   "cell_type": "code",
   "execution_count": 253,
   "id": "e19a2eb1-394a-43b4-a251-8482cd580d75",
   "metadata": {},
   "outputs": [
    {
     "data": {
      "image/png": "[encoded data removed]",
      "text/plain": [
       "<Figure size 1400x600 with 2 Axes>"
      ]
     },
     "metadata": {},
     "output_type": "display_data"
    }
   ],
   "source": [
    "#Setting up box plots for visualisations\n",
    "category_rating_columns = [\n",
    "    \"Terminal Cleanliness\", \"Terminal Seating\", \"Terminal Signs\",\n",
    "    \"Food & Beverages\", \"Airport Shopping\", \"Wifi Connectivity\", \"Airport Staff\"\n",
    "]\n",
    "\n",
    "#Setting up figure to separate 1-10 and 1-5 rating columns\n",
    "fig, axes = plt.subplots(1,2, figsize=(14,6))\n",
    "\n",
    "#Box Plot for 1-10 scale rating\n",
    "sns.boxplot(data=df[\"Overall Rating\"], ax=axes[0])\n",
    "axes[0].set_title(\"Distribution of Overall Rating(1-10)\")\n",
    "axes[0].set_xlabel([\"Overall Rating\"])\n",
    "\n",
    "#Boxplot for 1 to 5 scale ratings\n",
    "sns.boxplot(data=df[category_rating_columns], ax=axes[1])\n",
    "axes[1].set_title(\"Distribution of Category Ratings(1-5)\")\n",
    "axes[1].set_xticks(range(len(category_rating_columns))) \n",
    "axes[1].set_xticklabels(category_rating_columns, rotation=45)\n",
    "\n",
    "plt.tight_layout()\n",
    "plt.show()"
   ]
  },
  {
   "cell_type": "markdown",
   "id": "2c2ca12d-5b9c-4586-9159-6bdfa2f1d67e",
   "metadata": {},
   "source": [
    "Boxplot Insights- \n",
    "1. Overall Rating (1-10)- Box Range shows that 50% of the reviews fall within this range. Whiskers extend from 1 to 10 indicating mimumum and maximum ratings were 1 and 10. There is asymmetry since the box is not centered around 5, suggesting skewness in ratings\n",
    "\n",
    "2. Category Ratings (1-5)- Most categories have a box around 5, suggesting that most users rated these categories highly. Whiskers are sometimes 0 or 1, indicating some users gave extremely low in most or extremely high ratings (5). "
   ]
  },
  {
   "cell_type": "code",
   "execution_count": 255,
   "id": "83ac2f6e-6f6e-4850-b470-8290fb421c70",
   "metadata": {},
   "outputs": [
    {
     "name": "stdout",
     "output_type": "stream",
     "text": [
      "        Overall Rating  Terminal Cleanliness  Terminal Seating  \\\n",
      "mean           4.73668              3.551169          2.946518   \n",
      "median         4.00000              4.000000          3.000000   \n",
      "\n",
      "        Terminal Signs  Food & Beverages  Airport Shopping  Wifi Connectivity  \\\n",
      "mean          3.294178          2.464049          3.150403           2.788366   \n",
      "median        4.000000          2.000000          3.000000           3.000000   \n",
      "\n",
      "        Airport Staff  \n",
      "mean         2.603226  \n",
      "median       2.000000  \n"
     ]
    }
   ],
   "source": [
    "summary = df[rating_columns].agg([\"mean\", \"median\"])\n",
    "print(summary)"
   ]
  },
  {
   "cell_type": "markdown",
   "id": "3c8d2afa-2418-4ea1-92a8-9223d63e27ae",
   "metadata": {},
   "source": [
    "Whiskers extend from 1 to 10 with overall rating, showing slightly right-skewed distribution. From the summary data median was chosen over men as a way to fill in missing values due to skewness and potential outliers. \n",
    "\n",
    "Additionally, for category ratings most have a rating median of 3 or 4. The mean is slightly lower than the medians probably because extremely lower ratings are pulling the mean down or foe some columns the extremely high values are pulling the mean up. \n",
    "\n",
    "As a result, median is decided as a way to impute mean values as it is less affected by extreme values. "
   ]
  },
  {
   "cell_type": "code",
   "execution_count": 258,
   "id": "03609e88-7efe-43f5-86be-844d49f2af73",
   "metadata": {},
   "outputs": [
    {
     "name": "stdout",
     "output_type": "stream",
     "text": [
      "Type of Traveller distribution:\n",
      " Type of Traveller\n",
      "Solo Leisure      725\n",
      "Family Leisure    459\n",
      "Business          421\n",
      "Couple Leisure    378\n",
      "Name: count, dtype: int64 \n",
      "\n",
      "Experience distribution:\n",
      " Experience\n",
      "Arrival and Departure    652\n",
      "Transit                  572\n",
      "Departure Only           553\n",
      "Arrival Only             206\n",
      "Name: count, dtype: int64\n"
     ]
    }
   ],
   "source": [
    "#Check value counts for 'Type of Traveller' and 'Experience'\n",
    "\n",
    "print(\"Type of Traveller distribution:\\n\", df[\"Type of Traveller\"].value_counts(), \"\\n\")\n",
    "print(\"Experience distribution:\\n\", df[\"Experience\"].value_counts())\n",
    "      "
   ]
  },
  {
   "cell_type": "markdown",
   "id": "559bef32-79a8-46be-a118-c57deee088d6",
   "metadata": {},
   "source": [
    "Since less than solo leisure for type of traveller and arrival and departure for experience distribution have less than 50% of the values, the missing values will be filled with \"Unknown\" instead of the mode. "
   ]
  },
  {
   "cell_type": "markdown",
   "id": "4063de92-6eab-4593-96c6-3dfe31aba6d3",
   "metadata": {},
   "source": [
    "**Filling Missing values**\n",
    "Missing columns from numerical values will be filled by median and categorical columns will be filled by imputing the model\n",
    "\n",
    "Missing columns from object values will be filled with \"Unknown\""
   ]
  },
  {
   "cell_type": "code",
   "execution_count": 346,
   "id": "27ab1c74-5e2a-4be7-a33a-520a6d6daca1",
   "metadata": {},
   "outputs": [
    {
     "name": "stdout",
     "output_type": "stream",
     "text": [
      "Airport                 0\n",
      "Review                  0\n",
      "Overall Rating          0\n",
      "Recommended             0\n",
      "Date of Visit           0\n",
      "Type of Traveller       0\n",
      "Experience              0\n",
      "Terminal Cleanliness    0\n",
      "Terminal Seating        0\n",
      "Terminal Signs          0\n",
      "Food & Beverages        0\n",
      "Airport Shopping        0\n",
      "Wifi Connectivity       0\n",
      "Airport Staff           0\n",
      "dtype: int64\n"
     ]
    }
   ],
   "source": [
    "numerical_cols = [\"Overall Rating\", \"Terminal Cleanliness\", \"Terminal Seating\", \"Terminal Signs\",\n",
    "                  \"Food & Beverages\", \"Airport Shopping\", \"Wifi Connectivity\", \"Airport Staff\"]\n",
    "df[numerical_cols]= df[numerical_cols].fillna(df[numerical_cols].median())\n",
    "\n",
    "#Object columns\n",
    "object_cols = [\"Date of Visit\", \"Type of Traveller\", \"Experience\"]\n",
    "\n",
    "df[object_cols] = df[object_cols].fillna(\"Unknown\")\n",
    "\n",
    "print(df.isna().sum())"
   ]
  },
  {
   "cell_type": "code",
   "execution_count": 348,
   "id": "3ab1f7de-b8ef-41c0-85c8-dd5c70dbc2f5",
   "metadata": {},
   "outputs": [
    {
     "name": "stdout",
     "output_type": "stream",
     "text": [
      "Total duplicate rows: 2\n"
     ]
    }
   ],
   "source": [
    "duplicated_rows = df.duplicated().sum()\n",
    "print(f\"Total duplicate rows: {duplicated_rows}\")"
   ]
  },
  {
   "cell_type": "code",
   "execution_count": 350,
   "id": "dba3ef0b-db05-404e-9a4a-d762031a1ce7",
   "metadata": {},
   "outputs": [
    {
     "name": "stdout",
     "output_type": "stream",
     "text": [
      "Before removing duplicates:\n",
      "Airport\n",
      "Istanbul     300\n",
      "Dubai        300\n",
      "Bangkok      300\n",
      "Singapore    300\n",
      "Hong Kong    300\n",
      "Delhi        300\n",
      "Mumbai       300\n",
      "Abu Dhabi    262\n",
      "Doha         120\n",
      "Bangalore    117\n",
      "Hyderabad     71\n",
      "Name: count, dtype: int64\n",
      "\n",
      "After removing duplicates:\n",
      "Airport\n",
      "Istanbul     300\n",
      "Dubai        300\n",
      "Singapore    300\n",
      "Delhi        300\n",
      "Mumbai       300\n",
      "Bangkok      299\n",
      "Hong Kong    299\n",
      "Abu Dhabi    261\n",
      "Doha         120\n",
      "Bangalore    116\n",
      "Hyderabad     71\n",
      "Name: count, dtype: int64\n"
     ]
    }
   ],
   "source": [
    "print(\"Before removing duplicates:\")\n",
    "print(df[\"Airport\"].value_counts())  \n",
    "\n",
    "df = df.drop_duplicates(subset=[\"Review\"], keep=\"first\")  \n",
    "\n",
    "print(\"\\nAfter removing duplicates:\")\n",
    "print(df[\"Airport\"].value_counts())  \n"
   ]
  },
  {
   "cell_type": "code",
   "execution_count": 352,
   "id": "1d0e0e49-dcd9-4b4f-8069-6653128feabe",
   "metadata": {},
   "outputs": [
    {
     "data": {
      "text/plain": [
       "0"
      ]
     },
     "execution_count": 352,
     "metadata": {},
     "output_type": "execute_result"
    }
   ],
   "source": [
    "df.duplicated().sum()"
   ]
  },
  {
   "cell_type": "code",
   "execution_count": 354,
   "id": "a220ebd5-48f5-49b4-a1f5-4591d678bb5e",
   "metadata": {},
   "outputs": [
    {
     "data": {
      "text/plain": [
       "array(['Istanbul', 'Dubai', 'Doha', 'Abu Dhabi', 'Bangkok', 'Singapore',\n",
       "       'Hong Kong', 'Delhi', 'Mumbai', 'Bangalore', 'Hyderabad'],\n",
       "      dtype=object)"
      ]
     },
     "execution_count": 354,
     "metadata": {},
     "output_type": "execute_result"
    }
   ],
   "source": [
    "df[\"Airport\"].unique()"
   ]
  },
  {
   "cell_type": "code",
   "execution_count": 356,
   "id": "2399dc04-3843-4c79-a54b-fd826253a66c",
   "metadata": {},
   "outputs": [
    {
     "name": "stdout",
     "output_type": "stream",
     "text": [
      "<class 'pandas.core.frame.DataFrame'>\n",
      "Index: 2666 entries, 0 to 2669\n",
      "Data columns (total 14 columns):\n",
      " #   Column                Non-Null Count  Dtype  \n",
      "---  ------                --------------  -----  \n",
      " 0   Airport               2666 non-null   object \n",
      " 1   Review                2666 non-null   object \n",
      " 2   Overall Rating        2666 non-null   float64\n",
      " 3   Recommended           2666 non-null   object \n",
      " 4   Date of Visit         2666 non-null   object \n",
      " 5   Type of Traveller     2666 non-null   object \n",
      " 6   Experience            2666 non-null   object \n",
      " 7   Terminal Cleanliness  2666 non-null   float64\n",
      " 8   Terminal Seating      2666 non-null   float64\n",
      " 9   Terminal Signs        2666 non-null   float64\n",
      " 10  Food & Beverages      2666 non-null   float64\n",
      " 11  Airport Shopping      2666 non-null   float64\n",
      " 12  Wifi Connectivity     2666 non-null   float64\n",
      " 13  Airport Staff         2666 non-null   float64\n",
      "dtypes: float64(8), object(6)\n",
      "memory usage: 312.4+ KB\n"
     ]
    }
   ],
   "source": [
    "df.info()"
   ]
  },
  {
   "cell_type": "code",
   "execution_count": 358,
   "id": "45408260-9687-4ea6-9605-3dff5a7fae97",
   "metadata": {},
   "outputs": [],
   "source": [
    "#Standardise column formats\n",
    "df[\"Recommended\"] = df[\"Recommended\"].map({\"yes\":1, \"no\":0})\n",
    "\n",
    "#Removing Special Characters and extra spaces in Review\n",
    "\n",
    "df[\"Review\"] = df[\"Review\"].str.replace(r\"\\s+\", \" \", regex=True).str.strip()"
   ]
  },
  {
   "cell_type": "code",
   "execution_count": 364,
   "id": "38fbdd66-3037-49fe-a09b-f4e3309b2635",
   "metadata": {},
   "outputs": [],
   "source": [
    "\n",
    "# Convert \"Unknown\" to NaN\n",
    "df[\"Date of Visit\"] = df[\"Date of Visit\"].replace(\"Unknown\", pd.NA)\n",
    "\n",
    "# Convert to datetime (only extracting the year)\n",
    "df[\"Year\"] = pd.to_datetime(df[\"Date of Visit\"], format=\"%B %Y\", errors=\"coerce\").dt.year\n",
    "\n",
    "# Handle missing years (replace NaN with \"Unknown\" if needed)\n",
    "df[\"Year\"] = df[\"Year\"].fillna(\"Unknown\").astype(str)\n",
    "\n",
    "# Drop \"Date of Visit\" column\n",
    "df.drop(columns=[\"Date of Visit\"], inplace=True)\n"
   ]
  },
  {
   "cell_type": "code",
   "execution_count": 366,
   "id": "8335381c-6ea1-4e15-9ee8-aeca46e2d4c1",
   "metadata": {},
   "outputs": [
    {
     "data": {
      "text/html": [
       "<div>\n",
       "<style scoped>\n",
       "    .dataframe tbody tr th:only-of-type {\n",
       "        vertical-align: middle;\n",
       "    }\n",
       "\n",
       "    .dataframe tbody tr th {\n",
       "        vertical-align: top;\n",
       "    }\n",
       "\n",
       "    .dataframe thead th {\n",
       "        text-align: right;\n",
       "    }\n",
       "</style>\n",
       "<table border=\"1\" class=\"dataframe\">\n",
       "  <thead>\n",
       "    <tr style=\"text-align: right;\">\n",
       "      <th></th>\n",
       "      <th>Airport</th>\n",
       "      <th>Review</th>\n",
       "      <th>Overall Rating</th>\n",
       "      <th>Recommended</th>\n",
       "      <th>Type of Traveller</th>\n",
       "      <th>Experience</th>\n",
       "      <th>Terminal Cleanliness</th>\n",
       "      <th>Terminal Seating</th>\n",
       "      <th>Terminal Signs</th>\n",
       "      <th>Food &amp; Beverages</th>\n",
       "      <th>Airport Shopping</th>\n",
       "      <th>Wifi Connectivity</th>\n",
       "      <th>Airport Staff</th>\n",
       "      <th>Year</th>\n",
       "    </tr>\n",
       "  </thead>\n",
       "  <tbody>\n",
       "    <tr>\n",
       "      <th>0</th>\n",
       "      <td>Istanbul</td>\n",
       "      <td>✅ Trip Verified | I'm flying 50-60 times a yea...</td>\n",
       "      <td>1.0</td>\n",
       "      <td>0</td>\n",
       "      <td>Business</td>\n",
       "      <td>Departure Only</td>\n",
       "      <td>4.0</td>\n",
       "      <td>2.0</td>\n",
       "      <td>3.0</td>\n",
       "      <td>1.0</td>\n",
       "      <td>3.0</td>\n",
       "      <td>3.0</td>\n",
       "      <td>2.0</td>\n",
       "      <td>2025.0</td>\n",
       "    </tr>\n",
       "    <tr>\n",
       "      <th>1</th>\n",
       "      <td>Istanbul</td>\n",
       "      <td>Not Verified | Ridiculous prices on everything...</td>\n",
       "      <td>2.0</td>\n",
       "      <td>0</td>\n",
       "      <td>Family Leisure</td>\n",
       "      <td>Arrival and Departure</td>\n",
       "      <td>2.0</td>\n",
       "      <td>1.0</td>\n",
       "      <td>3.0</td>\n",
       "      <td>1.0</td>\n",
       "      <td>1.0</td>\n",
       "      <td>1.0</td>\n",
       "      <td>1.0</td>\n",
       "      <td>2025.0</td>\n",
       "    </tr>\n",
       "    <tr>\n",
       "      <th>2</th>\n",
       "      <td>Istanbul</td>\n",
       "      <td>Not Verified | The biggest trap for the touris...</td>\n",
       "      <td>1.0</td>\n",
       "      <td>0</td>\n",
       "      <td>Couple Leisure</td>\n",
       "      <td>Departure Only</td>\n",
       "      <td>1.0</td>\n",
       "      <td>1.0</td>\n",
       "      <td>1.0</td>\n",
       "      <td>1.0</td>\n",
       "      <td>1.0</td>\n",
       "      <td>1.0</td>\n",
       "      <td>1.0</td>\n",
       "      <td>2025.0</td>\n",
       "    </tr>\n",
       "    <tr>\n",
       "      <th>3</th>\n",
       "      <td>Istanbul</td>\n",
       "      <td>✅ Trip Verified | Fast food price is just ridi...</td>\n",
       "      <td>2.0</td>\n",
       "      <td>0</td>\n",
       "      <td>Solo Leisure</td>\n",
       "      <td>Transit</td>\n",
       "      <td>5.0</td>\n",
       "      <td>5.0</td>\n",
       "      <td>5.0</td>\n",
       "      <td>1.0</td>\n",
       "      <td>1.0</td>\n",
       "      <td>5.0</td>\n",
       "      <td>3.0</td>\n",
       "      <td>2025.0</td>\n",
       "    </tr>\n",
       "    <tr>\n",
       "      <th>4</th>\n",
       "      <td>Istanbul</td>\n",
       "      <td>✅ Trip Verified | This airport is luxury and n...</td>\n",
       "      <td>2.0</td>\n",
       "      <td>0</td>\n",
       "      <td>Business</td>\n",
       "      <td>Arrival and Departure</td>\n",
       "      <td>1.0</td>\n",
       "      <td>2.0</td>\n",
       "      <td>3.0</td>\n",
       "      <td>3.0</td>\n",
       "      <td>4.0</td>\n",
       "      <td>2.0</td>\n",
       "      <td>1.0</td>\n",
       "      <td>2025.0</td>\n",
       "    </tr>\n",
       "  </tbody>\n",
       "</table>\n",
       "</div>"
      ],
      "text/plain": [
       "    Airport                                             Review  \\\n",
       "0  Istanbul  ✅ Trip Verified | I'm flying 50-60 times a yea...   \n",
       "1  Istanbul  Not Verified | Ridiculous prices on everything...   \n",
       "2  Istanbul  Not Verified | The biggest trap for the touris...   \n",
       "3  Istanbul  ✅ Trip Verified | Fast food price is just ridi...   \n",
       "4  Istanbul  ✅ Trip Verified | This airport is luxury and n...   \n",
       "\n",
       "   Overall Rating  Recommended Type of Traveller             Experience  \\\n",
       "0             1.0            0          Business         Departure Only   \n",
       "1             2.0            0    Family Leisure  Arrival and Departure   \n",
       "2             1.0            0    Couple Leisure         Departure Only   \n",
       "3             2.0            0      Solo Leisure                Transit   \n",
       "4             2.0            0          Business  Arrival and Departure   \n",
       "\n",
       "   Terminal Cleanliness  Terminal Seating  Terminal Signs  Food & Beverages  \\\n",
       "0                   4.0               2.0             3.0               1.0   \n",
       "1                   2.0               1.0             3.0               1.0   \n",
       "2                   1.0               1.0             1.0               1.0   \n",
       "3                   5.0               5.0             5.0               1.0   \n",
       "4                   1.0               2.0             3.0               3.0   \n",
       "\n",
       "   Airport Shopping  Wifi Connectivity  Airport Staff    Year  \n",
       "0               3.0                3.0            2.0  2025.0  \n",
       "1               1.0                1.0            1.0  2025.0  \n",
       "2               1.0                1.0            1.0  2025.0  \n",
       "3               1.0                5.0            3.0  2025.0  \n",
       "4               4.0                2.0            1.0  2025.0  "
      ]
     },
     "execution_count": 366,
     "metadata": {},
     "output_type": "execute_result"
    }
   ],
   "source": [
    "df.head()"
   ]
  },
  {
   "cell_type": "code",
   "execution_count": 362,
   "id": "79623895-5944-475c-814c-46165d48e491",
   "metadata": {},
   "outputs": [
    {
     "data": {
      "text/plain": [
       "Recommended\n",
       "0    1605\n",
       "1    1061\n",
       "Name: count, dtype: int64"
      ]
     },
     "execution_count": 362,
     "metadata": {},
     "output_type": "execute_result"
    }
   ],
   "source": [
    "df[\"Recommended\"].value_counts()"
   ]
  },
  {
   "cell_type": "code",
   "execution_count": 372,
   "id": "0b808c7a-ef1a-440d-b899-719ab86235d6",
   "metadata": {},
   "outputs": [
    {
     "name": "stdout",
     "output_type": "stream",
     "text": [
      "<class 'pandas.core.frame.DataFrame'>\n",
      "Index: 2666 entries, 0 to 2669\n",
      "Data columns (total 14 columns):\n",
      " #   Column                Non-Null Count  Dtype  \n",
      "---  ------                --------------  -----  \n",
      " 0   Airport               2666 non-null   object \n",
      " 1   Review                2666 non-null   object \n",
      " 2   Overall Rating        2666 non-null   float64\n",
      " 3   Recommended           2666 non-null   int64  \n",
      " 4   Type of Traveller     2666 non-null   object \n",
      " 5   Experience            2666 non-null   object \n",
      " 6   Terminal Cleanliness  2666 non-null   float64\n",
      " 7   Terminal Seating      2666 non-null   float64\n",
      " 8   Terminal Signs        2666 non-null   float64\n",
      " 9   Food & Beverages      2666 non-null   float64\n",
      " 10  Airport Shopping      2666 non-null   float64\n",
      " 11  Wifi Connectivity     2666 non-null   float64\n",
      " 12  Airport Staff         2666 non-null   float64\n",
      " 13  Year                  2666 non-null   object \n",
      "dtypes: float64(8), int64(1), object(5)\n",
      "memory usage: 312.4+ KB\n"
     ]
    }
   ],
   "source": [
    "df.info()"
   ]
  },
  {
   "cell_type": "code",
   "execution_count": 370,
   "id": "d32a565a-4d4c-4afd-a334-e6624073d671",
   "metadata": {},
   "outputs": [],
   "source": [
    "df[\"Year\"] = pd.to_numeric(df[\"Year\"], errors=\"coerce\")  # Convert numbers, keep NaNs\n",
    "df[\"Year\"] = df[\"Year\"].fillna(\"Unknown\")  # Replace NaNs with \"Unknown\""
   ]
  },
  {
   "cell_type": "code",
   "execution_count": 374,
   "id": "bdffc902-00f9-4bb0-a469-4aa3b07dbb24",
   "metadata": {},
   "outputs": [
    {
     "data": {
      "text/plain": [
       "array([2025.0, 2024.0, 2023.0, 2022.0, 2021.0, 2020.0, 2019.0, 2018.0,\n",
       "       2017.0, 2016.0, 2015.0, 'Unknown', 2014.0], dtype=object)"
      ]
     },
     "execution_count": 374,
     "metadata": {},
     "output_type": "execute_result"
    }
   ],
   "source": [
    "df[\"Year\"].unique()"
   ]
  },
  {
   "cell_type": "code",
   "execution_count": 376,
   "id": "a8ce573f-df5a-4a5a-92b7-d4129aa41228",
   "metadata": {},
   "outputs": [
    {
     "data": {
      "text/html": [
       "<div>\n",
       "<style scoped>\n",
       "    .dataframe tbody tr th:only-of-type {\n",
       "        vertical-align: middle;\n",
       "    }\n",
       "\n",
       "    .dataframe tbody tr th {\n",
       "        vertical-align: top;\n",
       "    }\n",
       "\n",
       "    .dataframe thead th {\n",
       "        text-align: right;\n",
       "    }\n",
       "</style>\n",
       "<table border=\"1\" class=\"dataframe\">\n",
       "  <thead>\n",
       "    <tr style=\"text-align: right;\">\n",
       "      <th></th>\n",
       "      <th>Overall Rating</th>\n",
       "      <th>Recommended</th>\n",
       "      <th>Terminal Cleanliness</th>\n",
       "      <th>Terminal Seating</th>\n",
       "      <th>Terminal Signs</th>\n",
       "      <th>Food &amp; Beverages</th>\n",
       "      <th>Airport Shopping</th>\n",
       "      <th>Wifi Connectivity</th>\n",
       "      <th>Airport Staff</th>\n",
       "    </tr>\n",
       "  </thead>\n",
       "  <tbody>\n",
       "    <tr>\n",
       "      <th>count</th>\n",
       "      <td>2666.000000</td>\n",
       "      <td>2666.000000</td>\n",
       "      <td>2666.000000</td>\n",
       "      <td>2666.000000</td>\n",
       "      <td>2666.000000</td>\n",
       "      <td>2666.000000</td>\n",
       "      <td>2666.000000</td>\n",
       "      <td>2666.000000</td>\n",
       "      <td>2666.000000</td>\n",
       "    </tr>\n",
       "    <tr>\n",
       "      <th>mean</th>\n",
       "      <td>4.712303</td>\n",
       "      <td>0.397974</td>\n",
       "      <td>3.562641</td>\n",
       "      <td>2.963991</td>\n",
       "      <td>3.486122</td>\n",
       "      <td>2.340960</td>\n",
       "      <td>3.125656</td>\n",
       "      <td>2.870968</td>\n",
       "      <td>2.420105</td>\n",
       "    </tr>\n",
       "    <tr>\n",
       "      <th>std</th>\n",
       "      <td>3.105786</td>\n",
       "      <td>0.489572</td>\n",
       "      <td>1.309804</td>\n",
       "      <td>1.195448</td>\n",
       "      <td>1.279069</td>\n",
       "      <td>1.491322</td>\n",
       "      <td>1.325023</td>\n",
       "      <td>1.201877</td>\n",
       "      <td>1.310297</td>\n",
       "    </tr>\n",
       "    <tr>\n",
       "      <th>min</th>\n",
       "      <td>1.000000</td>\n",
       "      <td>0.000000</td>\n",
       "      <td>0.000000</td>\n",
       "      <td>1.000000</td>\n",
       "      <td>1.000000</td>\n",
       "      <td>0.000000</td>\n",
       "      <td>0.000000</td>\n",
       "      <td>1.000000</td>\n",
       "      <td>1.000000</td>\n",
       "    </tr>\n",
       "    <tr>\n",
       "      <th>25%</th>\n",
       "      <td>2.000000</td>\n",
       "      <td>0.000000</td>\n",
       "      <td>3.000000</td>\n",
       "      <td>2.000000</td>\n",
       "      <td>3.000000</td>\n",
       "      <td>1.000000</td>\n",
       "      <td>2.000000</td>\n",
       "      <td>2.000000</td>\n",
       "      <td>1.000000</td>\n",
       "    </tr>\n",
       "    <tr>\n",
       "      <th>50%</th>\n",
       "      <td>4.000000</td>\n",
       "      <td>0.000000</td>\n",
       "      <td>4.000000</td>\n",
       "      <td>3.000000</td>\n",
       "      <td>4.000000</td>\n",
       "      <td>2.000000</td>\n",
       "      <td>3.000000</td>\n",
       "      <td>3.000000</td>\n",
       "      <td>2.000000</td>\n",
       "    </tr>\n",
       "    <tr>\n",
       "      <th>75%</th>\n",
       "      <td>8.000000</td>\n",
       "      <td>1.000000</td>\n",
       "      <td>5.000000</td>\n",
       "      <td>4.000000</td>\n",
       "      <td>4.000000</td>\n",
       "      <td>3.000000</td>\n",
       "      <td>4.000000</td>\n",
       "      <td>3.000000</td>\n",
       "      <td>3.000000</td>\n",
       "    </tr>\n",
       "    <tr>\n",
       "      <th>max</th>\n",
       "      <td>10.000000</td>\n",
       "      <td>1.000000</td>\n",
       "      <td>5.000000</td>\n",
       "      <td>5.000000</td>\n",
       "      <td>5.000000</td>\n",
       "      <td>5.000000</td>\n",
       "      <td>5.000000</td>\n",
       "      <td>5.000000</td>\n",
       "      <td>5.000000</td>\n",
       "    </tr>\n",
       "  </tbody>\n",
       "</table>\n",
       "</div>"
      ],
      "text/plain": [
       "       Overall Rating  Recommended  Terminal Cleanliness  Terminal Seating  \\\n",
       "count     2666.000000  2666.000000           2666.000000       2666.000000   \n",
       "mean         4.712303     0.397974              3.562641          2.963991   \n",
       "std          3.105786     0.489572              1.309804          1.195448   \n",
       "min          1.000000     0.000000              0.000000          1.000000   \n",
       "25%          2.000000     0.000000              3.000000          2.000000   \n",
       "50%          4.000000     0.000000              4.000000          3.000000   \n",
       "75%          8.000000     1.000000              5.000000          4.000000   \n",
       "max         10.000000     1.000000              5.000000          5.000000   \n",
       "\n",
       "       Terminal Signs  Food & Beverages  Airport Shopping  Wifi Connectivity  \\\n",
       "count     2666.000000       2666.000000       2666.000000        2666.000000   \n",
       "mean         3.486122          2.340960          3.125656           2.870968   \n",
       "std          1.279069          1.491322          1.325023           1.201877   \n",
       "min          1.000000          0.000000          0.000000           1.000000   \n",
       "25%          3.000000          1.000000          2.000000           2.000000   \n",
       "50%          4.000000          2.000000          3.000000           3.000000   \n",
       "75%          4.000000          3.000000          4.000000           3.000000   \n",
       "max          5.000000          5.000000          5.000000           5.000000   \n",
       "\n",
       "       Airport Staff  \n",
       "count    2666.000000  \n",
       "mean        2.420105  \n",
       "std         1.310297  \n",
       "min         1.000000  \n",
       "25%         1.000000  \n",
       "50%         2.000000  \n",
       "75%         3.000000  \n",
       "max         5.000000  "
      ]
     },
     "execution_count": 376,
     "metadata": {},
     "output_type": "execute_result"
    }
   ],
   "source": [
    "df.describe()"
   ]
  },
  {
   "cell_type": "code",
   "execution_count": 378,
   "id": "eed3e31b-bb40-4c79-a984-9178d4aa4b3b",
   "metadata": {},
   "outputs": [
    {
     "data": {
      "text/html": [
       "<div>\n",
       "<style scoped>\n",
       "    .dataframe tbody tr th:only-of-type {\n",
       "        vertical-align: middle;\n",
       "    }\n",
       "\n",
       "    .dataframe tbody tr th {\n",
       "        vertical-align: top;\n",
       "    }\n",
       "\n",
       "    .dataframe thead th {\n",
       "        text-align: right;\n",
       "    }\n",
       "</style>\n",
       "<table border=\"1\" class=\"dataframe\">\n",
       "  <thead>\n",
       "    <tr style=\"text-align: right;\">\n",
       "      <th></th>\n",
       "      <th>Airport</th>\n",
       "      <th>Review</th>\n",
       "      <th>Overall Rating</th>\n",
       "      <th>Recommended</th>\n",
       "      <th>Type of Traveller</th>\n",
       "      <th>Experience</th>\n",
       "      <th>Terminal Cleanliness</th>\n",
       "      <th>Terminal Seating</th>\n",
       "      <th>Terminal Signs</th>\n",
       "      <th>Food &amp; Beverages</th>\n",
       "      <th>Airport Shopping</th>\n",
       "      <th>Wifi Connectivity</th>\n",
       "      <th>Airport Staff</th>\n",
       "      <th>Year</th>\n",
       "    </tr>\n",
       "  </thead>\n",
       "  <tbody>\n",
       "    <tr>\n",
       "      <th>0</th>\n",
       "      <td>Istanbul</td>\n",
       "      <td>✅ Trip Verified | I'm flying 50-60 times a yea...</td>\n",
       "      <td>1.0</td>\n",
       "      <td>0</td>\n",
       "      <td>Business</td>\n",
       "      <td>Departure Only</td>\n",
       "      <td>4.0</td>\n",
       "      <td>2.0</td>\n",
       "      <td>3.0</td>\n",
       "      <td>1.0</td>\n",
       "      <td>3.0</td>\n",
       "      <td>3.0</td>\n",
       "      <td>2.0</td>\n",
       "      <td>2025.0</td>\n",
       "    </tr>\n",
       "    <tr>\n",
       "      <th>1</th>\n",
       "      <td>Istanbul</td>\n",
       "      <td>Not Verified | Ridiculous prices on everything...</td>\n",
       "      <td>2.0</td>\n",
       "      <td>0</td>\n",
       "      <td>Family Leisure</td>\n",
       "      <td>Arrival and Departure</td>\n",
       "      <td>2.0</td>\n",
       "      <td>1.0</td>\n",
       "      <td>3.0</td>\n",
       "      <td>1.0</td>\n",
       "      <td>1.0</td>\n",
       "      <td>1.0</td>\n",
       "      <td>1.0</td>\n",
       "      <td>2025.0</td>\n",
       "    </tr>\n",
       "    <tr>\n",
       "      <th>2</th>\n",
       "      <td>Istanbul</td>\n",
       "      <td>Not Verified | The biggest trap for the touris...</td>\n",
       "      <td>1.0</td>\n",
       "      <td>0</td>\n",
       "      <td>Couple Leisure</td>\n",
       "      <td>Departure Only</td>\n",
       "      <td>1.0</td>\n",
       "      <td>1.0</td>\n",
       "      <td>1.0</td>\n",
       "      <td>1.0</td>\n",
       "      <td>1.0</td>\n",
       "      <td>1.0</td>\n",
       "      <td>1.0</td>\n",
       "      <td>2025.0</td>\n",
       "    </tr>\n",
       "    <tr>\n",
       "      <th>3</th>\n",
       "      <td>Istanbul</td>\n",
       "      <td>✅ Trip Verified | Fast food price is just ridi...</td>\n",
       "      <td>2.0</td>\n",
       "      <td>0</td>\n",
       "      <td>Solo Leisure</td>\n",
       "      <td>Transit</td>\n",
       "      <td>5.0</td>\n",
       "      <td>5.0</td>\n",
       "      <td>5.0</td>\n",
       "      <td>1.0</td>\n",
       "      <td>1.0</td>\n",
       "      <td>5.0</td>\n",
       "      <td>3.0</td>\n",
       "      <td>2025.0</td>\n",
       "    </tr>\n",
       "    <tr>\n",
       "      <th>4</th>\n",
       "      <td>Istanbul</td>\n",
       "      <td>✅ Trip Verified | This airport is luxury and n...</td>\n",
       "      <td>2.0</td>\n",
       "      <td>0</td>\n",
       "      <td>Business</td>\n",
       "      <td>Arrival and Departure</td>\n",
       "      <td>1.0</td>\n",
       "      <td>2.0</td>\n",
       "      <td>3.0</td>\n",
       "      <td>3.0</td>\n",
       "      <td>4.0</td>\n",
       "      <td>2.0</td>\n",
       "      <td>1.0</td>\n",
       "      <td>2025.0</td>\n",
       "    </tr>\n",
       "  </tbody>\n",
       "</table>\n",
       "</div>"
      ],
      "text/plain": [
       "    Airport                                             Review  \\\n",
       "0  Istanbul  ✅ Trip Verified | I'm flying 50-60 times a yea...   \n",
       "1  Istanbul  Not Verified | Ridiculous prices on everything...   \n",
       "2  Istanbul  Not Verified | The biggest trap for the touris...   \n",
       "3  Istanbul  ✅ Trip Verified | Fast food price is just ridi...   \n",
       "4  Istanbul  ✅ Trip Verified | This airport is luxury and n...   \n",
       "\n",
       "   Overall Rating  Recommended Type of Traveller             Experience  \\\n",
       "0             1.0            0          Business         Departure Only   \n",
       "1             2.0            0    Family Leisure  Arrival and Departure   \n",
       "2             1.0            0    Couple Leisure         Departure Only   \n",
       "3             2.0            0      Solo Leisure                Transit   \n",
       "4             2.0            0          Business  Arrival and Departure   \n",
       "\n",
       "   Terminal Cleanliness  Terminal Seating  Terminal Signs  Food & Beverages  \\\n",
       "0                   4.0               2.0             3.0               1.0   \n",
       "1                   2.0               1.0             3.0               1.0   \n",
       "2                   1.0               1.0             1.0               1.0   \n",
       "3                   5.0               5.0             5.0               1.0   \n",
       "4                   1.0               2.0             3.0               3.0   \n",
       "\n",
       "   Airport Shopping  Wifi Connectivity  Airport Staff    Year  \n",
       "0               3.0                3.0            2.0  2025.0  \n",
       "1               1.0                1.0            1.0  2025.0  \n",
       "2               1.0                1.0            1.0  2025.0  \n",
       "3               1.0                5.0            3.0  2025.0  \n",
       "4               4.0                2.0            1.0  2025.0  "
      ]
     },
     "execution_count": 378,
     "metadata": {},
     "output_type": "execute_result"
    }
   ],
   "source": [
    "df.head()"
   ]
  },
  {
   "cell_type": "code",
   "execution_count": 384,
   "id": "2b5a0832-16df-4ab1-8926-2329d86d8853",
   "metadata": {},
   "outputs": [
    {
     "name": "stdout",
     "output_type": "stream",
     "text": [
      "Filed saved as cleaned_df\n"
     ]
    }
   ],
   "source": [
    "df.to_csv(\"cleaned_df.csv\", index=False)\n",
    "print(\"Filed saved as cleaned_df\")"
   ]
  },
  {
   "cell_type": "code",
   "execution_count": null,
   "id": "56539e41-9602-4bcc-aef0-cac99c51595a",
   "metadata": {},
   "outputs": [],
   "source": []
  }
 ],
 "metadata": {
  "kernelspec": {
   "display_name": "Python 3 (ipykernel)",
   "language": "python",
   "name": "python3"
  },
  "language_info": {
   "codemirror_mode": {
    "name": "ipython",
    "version": 3
   },
   "file_extension": ".py",
   "mimetype": "text/x-python",
   "name": "python",
   "nbconvert_exporter": "python",
   "pygments_lexer": "ipython3",
   "version": "3.12.7"
  }
 },
 "nbformat": 4,
 "nbformat_minor": 5
}
